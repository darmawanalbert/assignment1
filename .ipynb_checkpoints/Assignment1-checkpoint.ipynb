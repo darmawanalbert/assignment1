{
 "cells": [
  {
   "cell_type": "markdown",
   "metadata": {},
   "source": [
    "# COMP90014 Assignment 1\n",
    "### Semester 2, 2020"
   ]
  },
  {
   "cell_type": "markdown",
   "metadata": {},
   "source": [
    "This assignment should be completed by each student individually. Make sure you read this entire document, and ask for help if anything is not clear. Any changes or clarification to this document will be announced via Canvas.\n",
    "\n",
    "Please make sure you are aware of the University's rules on academic honesty and plagiarism, which are very strict: https://academichonesty.unimelb.edu.au/ \n",
    "\n",
    "Make sure you **do not** copy any code either from other students or from the internet. This is considered plagiarism. It is generally a good idea to avoid looking at any solutions as you may find it surprisingly difficult to generate your own solution to the problem once you have seen somebody else's.\n",
    "\n",
    "Your completed notebook file containing all your answers will be turned in via Canvas. No other files or formats will be accepted - only upload the completed `.ipynb` file."
   ]
  },
  {
   "cell_type": "markdown",
   "metadata": {},
   "source": [
    "### Overview\n",
    "To complete the assignment you will need to finish the tasks in this notebook. There are multiple tasks that are connected in a logical order.\n",
    "\n",
    "The tasks are a combination of writing your own implementations of algorithms we've discussed in lectures, writing your own code to use library implementations of these algorithms and interpreting the results in short answer format. Each short answer question has a word limit that will be strictly enforced!\n",
    "\n",
    "In some case, we have provided test input and test output that you can use to try out your solutions. These tests are just samples and are not exhaustive - they may warn you if you've made a mistake, but they are not guaranteed to. It's up to you to decide whether your code is correct."
   ]
  },
  {
   "cell_type": "markdown",
   "metadata": {},
   "source": [
    "### Marking\n",
    "\n",
    "Cells that must be completed to receive marks are clearly labeled. There are 16 graded cells, some of which are code cells, in which you must complete the code to solve a problem, and some of which are markdown cells, in which you must write your answers to short-answer questions. In order to get full marks, your code needs to be clear, unambiguous, with adequate comments. **Code style, readability and efficiency** will be taken into consideration. \n",
    "\n",
    "The total marks for the assignment add up to 45, and it will be worth 15% of your overall subject grade."
   ]
  },
  {
   "cell_type": "markdown",
   "metadata": {},
   "source": [
    "### Background and data\n",
    "During this assignment we will analyse the relationship between 17 organisms. \n",
    "Understanding the genetic and evolutionary relationship between organisms is an important task which is at the core of bioinformatics. \n",
    "This type of phylogenetic analysis can be performed by comparing the sequence differences of a particular gene between the organisms.\n",
    "All organisms must possess the gene in question for comparison to be possible.  \n",
    "\n",
    "As all organisms possess genes to make ribosomes, these will be used in this assignment.\n",
    "A 100bp segment of the small ribosomal subunit gene has been extracted from each of these 17 organisms, and will act as our sequences for comparison.\n",
    "\n",
    "In the first section, we will calculate distances between these organisms and visualise.\n",
    "In the second section, we will use clustering algorithms to group organisms.\n",
    "\n",
    "At each step of the process you will be asked to fill out short answer questions to demonstrate your understanding of the concepts."
   ]
  },
  {
   "cell_type": "markdown",
   "metadata": {},
   "source": [
    "### Package installs\n",
    "If you are using jupyter lab online, all packages will be available. If you are running this on your local computer, you may need to install some packages. Run the cell below if using jupyter lab locally. "
   ]
  },
  {
   "cell_type": "code",
   "execution_count": 1,
   "metadata": {},
   "outputs": [
    {
     "name": "stdout",
     "output_type": "stream",
     "text": [
      "Requirement already satisfied: numpy in /opt/anaconda3/lib/python3.7/site-packages (1.18.1)\n",
      "Requirement already satisfied: scipy in /opt/anaconda3/lib/python3.7/site-packages (1.5.1)\n",
      "Requirement already satisfied: numpy>=1.14.5 in /opt/anaconda3/lib/python3.7/site-packages (from scipy) (1.18.1)\n",
      "Requirement already satisfied: pandas in /opt/anaconda3/lib/python3.7/site-packages (1.0.1)\n",
      "Requirement already satisfied: numpy>=1.13.3 in /opt/anaconda3/lib/python3.7/site-packages (from pandas) (1.18.1)\n",
      "Requirement already satisfied: python-dateutil>=2.6.1 in /opt/anaconda3/lib/python3.7/site-packages (from pandas) (2.8.1)\n",
      "Requirement already satisfied: pytz>=2017.2 in /opt/anaconda3/lib/python3.7/site-packages (from pandas) (2019.3)\n",
      "Requirement already satisfied: six>=1.5 in /opt/anaconda3/lib/python3.7/site-packages (from python-dateutil>=2.6.1->pandas) (1.14.0)\n",
      "Requirement already satisfied: scikit-learn in /opt/anaconda3/lib/python3.7/site-packages (0.22.1)\n",
      "Requirement already satisfied: scipy>=0.17.0 in /opt/anaconda3/lib/python3.7/site-packages (from scikit-learn) (1.5.1)\n",
      "Requirement already satisfied: numpy>=1.11.0 in /opt/anaconda3/lib/python3.7/site-packages (from scikit-learn) (1.18.1)\n",
      "Requirement already satisfied: joblib>=0.11 in /opt/anaconda3/lib/python3.7/site-packages (from scikit-learn) (0.14.1)\n",
      "Requirement already satisfied: seaborn in /opt/anaconda3/lib/python3.7/site-packages (0.10.0)\n",
      "Requirement already satisfied: numpy>=1.13.3 in /opt/anaconda3/lib/python3.7/site-packages (from seaborn) (1.18.1)\n",
      "Requirement already satisfied: matplotlib>=2.1.2 in /opt/anaconda3/lib/python3.7/site-packages (from seaborn) (3.1.3)\n",
      "Requirement already satisfied: pandas>=0.22.0 in /opt/anaconda3/lib/python3.7/site-packages (from seaborn) (1.0.1)\n",
      "Requirement already satisfied: scipy>=1.0.1 in /opt/anaconda3/lib/python3.7/site-packages (from seaborn) (1.5.1)\n",
      "Requirement already satisfied: pyparsing!=2.0.4,!=2.1.2,!=2.1.6,>=2.0.1 in /opt/anaconda3/lib/python3.7/site-packages (from matplotlib>=2.1.2->seaborn) (2.4.6)\n",
      "Requirement already satisfied: cycler>=0.10 in /opt/anaconda3/lib/python3.7/site-packages (from matplotlib>=2.1.2->seaborn) (0.10.0)\n",
      "Requirement already satisfied: kiwisolver>=1.0.1 in /opt/anaconda3/lib/python3.7/site-packages (from matplotlib>=2.1.2->seaborn) (1.1.0)\n",
      "Requirement already satisfied: python-dateutil>=2.1 in /opt/anaconda3/lib/python3.7/site-packages (from matplotlib>=2.1.2->seaborn) (2.8.1)\n",
      "Requirement already satisfied: pytz>=2017.2 in /opt/anaconda3/lib/python3.7/site-packages (from pandas>=0.22.0->seaborn) (2019.3)\n",
      "Requirement already satisfied: six in /opt/anaconda3/lib/python3.7/site-packages (from cycler>=0.10->matplotlib>=2.1.2->seaborn) (1.14.0)\n",
      "Requirement already satisfied: setuptools in /opt/anaconda3/lib/python3.7/site-packages (from kiwisolver>=1.0.1->matplotlib>=2.1.2->seaborn) (46.0.0.post20200309)\n"
     ]
    }
   ],
   "source": [
    "!pip install numpy\n",
    "!pip install scipy\n",
    "!pip install pandas\n",
    "!pip install scikit-learn\n",
    "!pip install seaborn"
   ]
  },
  {
   "cell_type": "markdown",
   "metadata": {},
   "source": [
    "### Importing data\n",
    "To begin, we need to understand the data.\n",
    "The ribosome genes are available in a .fasta file called 'ribosome_genes.fasta'. You can have a look if you like.\n",
    "These genes will be imported as classes (RibosomeGene). \n",
    "\n",
    "Each RibosomeGene object has a name, accession, sequence and length.\n",
    "You can access these properties using '.' syntax. (see below). \n",
    "\n",
    "Try to think of each gene as something physical, rather than code.\n",
    "In real life, each gene has a .length, its organism has a .name, and it has a .sequence. We can write code in this way too. \n",
    "\n",
    "we will import these into **ribosome_genes**, which is a list of our genes."
   ]
  },
  {
   "cell_type": "code",
   "execution_count": 2,
   "metadata": {},
   "outputs": [],
   "source": [
    "import warnings\n",
    "warnings.filterwarnings('ignore')\n",
    "\n",
    "from utilities import import_16s_sequences\n",
    "ribosome_genes = import_16s_sequences()"
   ]
  },
  {
   "cell_type": "code",
   "execution_count": 3,
   "metadata": {},
   "outputs": [
    {
     "name": "stdout",
     "output_type": "stream",
     "text": [
      "gene.accession      gene.name                     gene.length    gene.sequence\n",
      "EC_A                Escherichia coli DP101        100            CCUUCGGG...\n",
      "EC_B                Escherichia coli BEBOP        100            CCUUCGGG...\n",
      "EC_C                Escherichia coli SAMURAI_CH   100            CCUUCGGG...\n",
      "EC_D                Escherichia coli SAO          100            CCUUCGGG...\n",
      "EC_E                Escherichia coli code_GEASS   100            CCUUCGGG...\n",
      "EC_F                Escherichia coli DEATHNOTE    100            CCUUCGGG...\n",
      "EC_G                Escherichia coli STEINS_GAT   100            CCUUCGGG...\n",
      "EF_A                Enterococcus faecalis ATCC    100            CCUUUUUG...\n",
      "EF_B                Enterococcus faecalis EnGen   100            CCUUUUUG...\n",
      "EF_C                Enterococcus faecalis ATCC    100            CCUUUUUG...\n",
      "EF_D                Enterococcus faecalis GAH94   100            CCUUUUUG...\n",
      "HS_A                Homo sapiens (barack obamas   100            CCCGCCGG...\n",
      "MI_A                Musa itinerans                100            CCUUCGGG...\n",
      "SD_A                Shigella dysenteriae PEWPEW   100            CCUUCGGG...\n",
      "SF_A                Shigella flexneri Re-Zero     100            CCUUCGGG...\n",
      "SS_A                Shigella sp. CH-3             100            CCUUCGGG...\n",
      "SS_B                Shigella sp. JN-8             100            CUCUUCGC...\n"
     ]
    }
   ],
   "source": [
    "print('{:<20}{:<30}{:<15}{:<10}'.format('gene.accession', 'gene.name', 'gene.length', 'gene.sequence'))\n",
    "for gene in ribosome_genes:\n",
    "    print('{:<20}{:<30}{:<15}{:<10}'.format(gene.accession, gene.name[:27], gene.length, gene.sequence[:8] + '...'))"
   ]
  },
  {
   "cell_type": "markdown",
   "metadata": {},
   "source": [
    "### SECTION 1: PAIRWISE DISTANCES\n",
    "To be able to compare organisms via their sequences, we need a way to measure their difference as a distance. "
   ]
  },
  {
   "cell_type": "markdown",
   "metadata": {},
   "source": [
    "**TASK 1: K-mer distance**<br>\n",
    "The kmer distance between two sequences is defined here as the total number of k-mers that are unique to either sequence.<br>\n",
    "eg: If seq1 has 3 unique kmers not found in seq2 (copy number difference also matters), and seq2 has 2 unique kmers, the kmer distance in this assignment is 5.  \n",
    "<br>Write a function that calculates a dictionary of k-mers (for k = any number) and their counts for each gene sequence."
   ]
  },
  {
   "cell_type": "code",
   "execution_count": 24,
   "metadata": {},
   "outputs": [],
   "source": [
    "# -- GRADED CELL (1 mark) - complete this cell --\n",
    "\n",
    "def create_kmer_dictionary(seq, k):\n",
    "    # write a function which stores kmers, and their counts from a given input seq. \n",
    "    # the kmer size == k\n",
    "    \n",
    "    # Check for valid k value (natural number)\n",
    "    if (k <= 0):\n",
    "        return {}\n",
    "    seq_len = len(seq)\n",
    "    kmer_dict = {}\n",
    "    \n",
    "    # Generate the kmer dictionary (O(N) time complexity)\n",
    "    for i in range(0, seq_len-k+1):\n",
    "        kmer = seq[i:i+k]\n",
    "        if kmer in kmer_dict:\n",
    "            kmer_dict[kmer] = kmer_dict[kmer] + 1\n",
    "        else:\n",
    "            kmer_dict[kmer] = 1\n",
    "    return kmer_dict"
   ]
  },
  {
   "cell_type": "markdown",
   "metadata": {},
   "source": [
    "Write a function that accepts two k-mer occurance dictionaries, and returns the k-mer distance"
   ]
  },
  {
   "cell_type": "code",
   "execution_count": 27,
   "metadata": {},
   "outputs": [],
   "source": [
    "# -- GRADED CELL (2 marks) - complete this cell --\n",
    "\n",
    "def calculate_total_unique_kmers(kmers1, kmers2):\n",
    "    # given two kmer dictionaries, compute the sum of kmers unique to either dictionary\n",
    "    unique_kmers = 0\n",
    "    # Iterate through every kmer in kmers1 (O(N) time complexity)\n",
    "    for kmer in kmers1:\n",
    "        if kmer not in kmers2:\n",
    "            unique_kmers += 1\n",
    "    \n",
    "    # Iterate through every kmer in kmers2 (O(N) time complexity)\n",
    "    for kmer in kmers2:\n",
    "        if kmer not in kmers1:\n",
    "            unique_kmers +=1\n",
    "\n",
    "    return unique_kmers"
   ]
  },
  {
   "cell_type": "markdown",
   "metadata": {},
   "source": [
    "Write a function that uses the above two functions to calcualte the k-mer distance of two sequences"
   ]
  },
  {
   "cell_type": "code",
   "execution_count": 30,
   "metadata": {},
   "outputs": [],
   "source": [
    "# -- GRADED CELL (2 marks) - complete this cell --\n",
    "\n",
    "def kmer_distance(seq1, seq2, k):\n",
    "    # for two input sequences, find their kmer distance.\n",
    "    # use the create_kmer_dictionary and calculate_total_unique_kmers functions you have written previously. \n",
    "    kmers1 = create_kmer_dictionary(seq1, k)\n",
    "    kmers2 = create_kmer_dictionary(seq2, k)\n",
    "    distance = calculate_total_unique_kmers(kmers1, kmers2)\n",
    "    return distance"
   ]
  },
  {
   "cell_type": "markdown",
   "metadata": {},
   "source": [
    "Let's check our function. We can use the first two entries in the 'ribosome_genes' list.\n",
    "If implemented correctly, the following should return 24"
   ]
  },
  {
   "cell_type": "code",
   "execution_count": 31,
   "metadata": {},
   "outputs": [
    {
     "name": "stdout",
     "output_type": "stream",
     "text": [
      "24\n"
     ]
    }
   ],
   "source": [
    "distance = kmer_distance(ribosome_genes[1].sequence, ribosome_genes[3].sequence, 8)\n",
    "print(distance)"
   ]
  },
  {
   "cell_type": "markdown",
   "metadata": {},
   "source": [
    "**TASK2: smith-waterman alignment**<br>\n",
    "Another way to compare the similarity of two sequences is through alignment.\n",
    "The alignment score of two sequences will be high when they are similar, and low when they are distinct. "
   ]
  },
  {
   "cell_type": "markdown",
   "metadata": {},
   "source": [
    "Write a function that initialises and returns a scoregrid for two sequences. <br>\n",
    "Keep in mind the matrix must be 1 element larger than the sequence lengths. Consider whether indel scores for the first row and column need to be filled in."
   ]
  },
  {
   "cell_type": "code",
   "execution_count": 32,
   "metadata": {},
   "outputs": [],
   "source": [
    "# -- GRADED CELL (1 mark) - complete this cell --\n",
    "\n",
    "import numpy as np\n",
    "def init_scoregrid(seq1, seq2, indel_score=-4):\n",
    "    # given two sequences, initialise a scoregrid to be used for smith-waterman alignment.\n",
    "    # The matrix length is 1 element larger than the sequence length\n",
    "    row_len = len(seq1) + 1\n",
    "    col_len = len(seq2) + 1\n",
    "    \n",
    "    # Initialise a matrix with zeroes\n",
    "    # In Smith-Waterman algorithm, the all first row elements and first column elements are set to 0\n",
    "    # unlike Needleman-Wunsch\n",
    "    scoregrid = np.zeros((row_len, col_len), np.int)\n",
    "    \n",
    "    return scoregrid"
   ]
  },
  {
   "cell_type": "markdown",
   "metadata": {},
   "source": [
    "Let's do a sanity check that the grid has been initialised properly. <br>\n",
    "The following should print the initialised scoregrid"
   ]
  },
  {
   "cell_type": "code",
   "execution_count": 33,
   "metadata": {},
   "outputs": [
    {
     "name": "stdout",
     "output_type": "stream",
     "text": [
      "[[0 0 0 0 0 0 0 0 0]\n",
      " [0 0 0 0 0 0 0 0 0]\n",
      " [0 0 0 0 0 0 0 0 0]\n",
      " [0 0 0 0 0 0 0 0 0]\n",
      " [0 0 0 0 0 0 0 0 0]\n",
      " [0 0 0 0 0 0 0 0 0]]\n"
     ]
    }
   ],
   "source": [
    "print(init_scoregrid('hello', 'kittycat'))"
   ]
  },
  {
   "cell_type": "markdown",
   "metadata": {},
   "source": [
    "Write a function that calculates the initialised scoregrid. It accepts two sequences, a scoregrid and match/mismatch and indel scores. "
   ]
  },
  {
   "cell_type": "code",
   "execution_count": 38,
   "metadata": {},
   "outputs": [],
   "source": [
    "# -- GRADED CELL (2 marks) - complete this cell --\n",
    "\n",
    "def calculate_scoregrid(seq1, seq2, scoregrid, match_score=1, mismatch_score=-4, indel_score=-4):\n",
    "    # given two sequences and an initialised scoregrid, fill in the cumulative alignment scores for each cell.\n",
    "    row_len = len(scoregrid)\n",
    "    col_len = len(scoregrid[0])\n",
    "    # Fill each cell inside the scoregrid matrix\n",
    "    for row in range(1, row_len):\n",
    "        for col in range(1, col_len):\n",
    "            # Determine whether current seq1 character is the same as current seq2 character\n",
    "            if seq1[row-1] == seq2[col-1]:\n",
    "                diagonal_score = match_score\n",
    "            else:\n",
    "                diagonal_score = mismatch_score\n",
    "            scoregrid[row, col] = max(0,\n",
    "                                     scoregrid[row-1][col-1] + diagonal_score,\n",
    "                                     scoregrid[row-1][col] + indel_score,\n",
    "                                     scoregrid[row][col-1] + indel_score)\n",
    "    return scoregrid"
   ]
  },
  {
   "cell_type": "markdown",
   "metadata": {},
   "source": [
    "Let's do another sanity check. <br>\n",
    "The following should print a calculated scoregrid, with the these numbers in the bottom right corner: <br>\n",
    "2  0 <br>\n",
    "0  3"
   ]
  },
  {
   "cell_type": "code",
   "execution_count": 39,
   "metadata": {},
   "outputs": [
    {
     "name": "stdout",
     "output_type": "stream",
     "text": [
      "[[0 0 0 0 0 0 0]\n",
      " [0 1 0 0 0 0 0]\n",
      " [0 0 2 0 0 0 0]\n",
      " [0 0 0 3 1 1 0]\n",
      " [0 0 0 1 4 2 0]\n",
      " [0 0 0 0 0 0 3]]\n"
     ]
    }
   ],
   "source": [
    "scoregrid = init_scoregrid('hello', 'helllo')\n",
    "print(calculate_scoregrid('hello', 'helllo', scoregrid))"
   ]
  },
  {
   "cell_type": "markdown",
   "metadata": {},
   "source": [
    "The last thing we need is to get the alignment score from the scoregrid. \n",
    "Write a function that returns an alignment score (smith-waterman style, local alignment) from a scoregrid"
   ]
  },
  {
   "cell_type": "code",
   "execution_count": 40,
   "metadata": {},
   "outputs": [],
   "source": [
    "# -- GRADED CELL (1 marks) - complete this cell --\n",
    "\n",
    "def report_alignment_score(scoregrid):\n",
    "    # given a completed scoregrid, return the smith-waterman alignment score.\n",
    "    # Find the maximum value inside scoregrid\n",
    "    row_len = len(scoregrid)\n",
    "    col_len = len(scoregrid[0])\n",
    "    sw_alignment_score = 0\n",
    "    for row in range(row_len):\n",
    "        for col in range(col_len):\n",
    "            if scoregrid[row][col] > sw_alignment_score:\n",
    "                sw_alignment_score = scoregrid[row][col]\n",
    "    return sw_alignment_score"
   ]
  },
  {
   "cell_type": "markdown",
   "metadata": {},
   "source": [
    "Final sanity check. Should return 4."
   ]
  },
  {
   "cell_type": "code",
   "execution_count": 41,
   "metadata": {},
   "outputs": [
    {
     "name": "stdout",
     "output_type": "stream",
     "text": [
      "4\n"
     ]
    }
   ],
   "source": [
    "scoregrid = init_scoregrid('hello', 'helllo')\n",
    "calculated_scoregrid = calculate_scoregrid('hello', 'helllo', scoregrid)\n",
    "print(report_alignment_score(calculated_scoregrid))"
   ]
  },
  {
   "cell_type": "markdown",
   "metadata": {},
   "source": [
    "Ok! now we're ready to put it all together. <br>\n",
    "Fill in the function below with the three functions you wrote to calculate the alignment score of two sequences"
   ]
  },
  {
   "cell_type": "code",
   "execution_count": 42,
   "metadata": {},
   "outputs": [],
   "source": [
    "# -- GRADED CELL (1 marks) - complete this cell --\n",
    "\n",
    "def smith_waterman(seq1, seq2):\n",
    "    # Given two sequences, perform smith-waterman alignment score calculation. \n",
    "    # use the init_scoregrid, calculate_scoregrid, and report_alignment_score functions you have written.\n",
    "    initial_scoregrid = init_scoregrid(seq1, seq2)\n",
    "    scoregrid = calculate_scoregrid(seq1, seq2, initial_scoregrid)\n",
    "    alignment_score = report_alignment_score(scoregrid)\n",
    "    return alignment_score"
   ]
  },
  {
   "cell_type": "markdown",
   "metadata": {},
   "source": [
    "The following should print 4"
   ]
  },
  {
   "cell_type": "code",
   "execution_count": 43,
   "metadata": {},
   "outputs": [
    {
     "name": "stdout",
     "output_type": "stream",
     "text": [
      "4\n"
     ]
    }
   ],
   "source": [
    "print(smith_waterman('hello', 'helllo'))"
   ]
  },
  {
   "cell_type": "markdown",
   "metadata": {},
   "source": [
    "**TASK 3: pairwise distances**"
   ]
  },
  {
   "cell_type": "markdown",
   "metadata": {},
   "source": [
    "We have now written two functions which can calculate the distance of two sequences. \n",
    "We can calculate the k-mer distance, and the smith-waterman alignment score. \n",
    "lets use these two methods to calculate the pairwise distance of our genes. "
   ]
  },
  {
   "cell_type": "markdown",
   "metadata": {},
   "source": [
    "Write a function which initialises and returns a distance matrix from a list of genes. \n",
    "Use a nested dictionary, where keys are 'gene.accession's, and the values are all 0 for now. "
   ]
  },
  {
   "cell_type": "code",
   "execution_count": 47,
   "metadata": {},
   "outputs": [],
   "source": [
    "# -- GRADED CELL (1 mark) - complete this cell --\n",
    "\n",
    "def init_distance_matrix(genes):\n",
    "    # for our list of genes, initialise a pairwise-distance matrix. Use accessions to denote genes.\n",
    "    # Retrieve gene accession list from genes parameter\n",
    "    gene_accession_list = [gene.accession for gene in genes]\n",
    "    distance_matrix = {}\n",
    "    # Generate a nested dictionary\n",
    "    for gene_accession_1 in gene_accession_list:\n",
    "        distance_matrix[gene_accession_1] = {}\n",
    "        for gene_accession_2 in gene_accession_list:\n",
    "            distance_matrix[gene_accession_1][gene_accession_2] = 0\n",
    "    return distance_matrix"
   ]
  },
  {
   "cell_type": "markdown",
   "metadata": {},
   "source": [
    "Let's print the distance matrix to make sure it worked. "
   ]
  },
  {
   "cell_type": "code",
   "execution_count": 48,
   "metadata": {},
   "outputs": [
    {
     "name": "stdout",
     "output_type": "stream",
     "text": [
      "        EC_A  EC_B  EC_C  EC_D  EC_E  EC_F  EC_G  EF_A  EF_B  EF_C  EF_D  HS_A  MI_A  SD_A  SF_A  SS_A  SS_B\n",
      "EC_A     0.0   0.0   0.0   0.0   0.0   0.0   0.0   0.0   0.0   0.0   0.0   0.0   0.0   0.0   0.0   0.0   0.0\n",
      "EC_B     0.0   0.0   0.0   0.0   0.0   0.0   0.0   0.0   0.0   0.0   0.0   0.0   0.0   0.0   0.0   0.0   0.0\n",
      "EC_C     0.0   0.0   0.0   0.0   0.0   0.0   0.0   0.0   0.0   0.0   0.0   0.0   0.0   0.0   0.0   0.0   0.0\n",
      "EC_D     0.0   0.0   0.0   0.0   0.0   0.0   0.0   0.0   0.0   0.0   0.0   0.0   0.0   0.0   0.0   0.0   0.0\n",
      "EC_E     0.0   0.0   0.0   0.0   0.0   0.0   0.0   0.0   0.0   0.0   0.0   0.0   0.0   0.0   0.0   0.0   0.0\n",
      "EC_F     0.0   0.0   0.0   0.0   0.0   0.0   0.0   0.0   0.0   0.0   0.0   0.0   0.0   0.0   0.0   0.0   0.0\n",
      "EC_G     0.0   0.0   0.0   0.0   0.0   0.0   0.0   0.0   0.0   0.0   0.0   0.0   0.0   0.0   0.0   0.0   0.0\n",
      "EF_A     0.0   0.0   0.0   0.0   0.0   0.0   0.0   0.0   0.0   0.0   0.0   0.0   0.0   0.0   0.0   0.0   0.0\n",
      "EF_B     0.0   0.0   0.0   0.0   0.0   0.0   0.0   0.0   0.0   0.0   0.0   0.0   0.0   0.0   0.0   0.0   0.0\n",
      "EF_C     0.0   0.0   0.0   0.0   0.0   0.0   0.0   0.0   0.0   0.0   0.0   0.0   0.0   0.0   0.0   0.0   0.0\n",
      "EF_D     0.0   0.0   0.0   0.0   0.0   0.0   0.0   0.0   0.0   0.0   0.0   0.0   0.0   0.0   0.0   0.0   0.0\n",
      "HS_A     0.0   0.0   0.0   0.0   0.0   0.0   0.0   0.0   0.0   0.0   0.0   0.0   0.0   0.0   0.0   0.0   0.0\n",
      "MI_A     0.0   0.0   0.0   0.0   0.0   0.0   0.0   0.0   0.0   0.0   0.0   0.0   0.0   0.0   0.0   0.0   0.0\n",
      "SD_A     0.0   0.0   0.0   0.0   0.0   0.0   0.0   0.0   0.0   0.0   0.0   0.0   0.0   0.0   0.0   0.0   0.0\n",
      "SF_A     0.0   0.0   0.0   0.0   0.0   0.0   0.0   0.0   0.0   0.0   0.0   0.0   0.0   0.0   0.0   0.0   0.0\n",
      "SS_A     0.0   0.0   0.0   0.0   0.0   0.0   0.0   0.0   0.0   0.0   0.0   0.0   0.0   0.0   0.0   0.0   0.0\n",
      "SS_B     0.0   0.0   0.0   0.0   0.0   0.0   0.0   0.0   0.0   0.0   0.0   0.0   0.0   0.0   0.0   0.0   0.0\n"
     ]
    }
   ],
   "source": [
    "from utilities import print_distance_matrix\n",
    "distance_matrix = init_distance_matrix(ribosome_genes)\n",
    "print_distance_matrix(distance_matrix)"
   ]
  },
  {
   "cell_type": "markdown",
   "metadata": {},
   "source": [
    "Time to fill in the matrix with distances. <br>\n",
    "Write a function which calculates the pairwise distance of genes using kmer distance.\n",
    "you will need to call the 'kmer_distance' function you have written above. "
   ]
  },
  {
   "cell_type": "code",
   "execution_count": 56,
   "metadata": {},
   "outputs": [],
   "source": [
    "# -- GRADED CELL (2 marks) - complete this cell --\n",
    "\n",
    "def calculate_kmer_distance_matrix(genes, matrix, k):\n",
    "    # using the initialised distance matrix, our list of genes, and your kmer_distance function,\n",
    "    # populate the matrix with kmer distances between each pair of genes. \n",
    "    \n",
    "    # Precompute a dictionary to lookup for gene sequence, given gene accession\n",
    "    gene_sequence = {}\n",
    "    for gene in genes:\n",
    "        gene_sequence[gene.accession] = gene.sequence\n",
    "    \n",
    "    # Calculate kmer distance for each matrix cell\n",
    "    for gene_accession_1 in matrix:\n",
    "        for gene_accession_2 in matrix[gene_accession_1]:\n",
    "            matrix[gene_accession_1][gene_accession_2] = kmer_distance(gene_sequence[gene_accession_1], \n",
    "                                                                       gene_sequence[gene_accession_2], \n",
    "                                                                       k)\n",
    "    return matrix"
   ]
  },
  {
   "cell_type": "markdown",
   "metadata": {},
   "source": [
    "Let's do the same as above, but this time use the 'smith_waterman' alignment distance function you wrote. "
   ]
  },
  {
   "cell_type": "code",
   "execution_count": 57,
   "metadata": {},
   "outputs": [],
   "source": [
    "# -- GRADED CELL (1 marks) - complete this cell --\n",
    "\n",
    "def calculate_sw_alignment_distance_matrix(genes, matrix):\n",
    "    # using the initialised distance matrix, our list of genes, and your smith_waterman function,\n",
    "    # populate the matrix with smith-waterman alignment scores between each pair of genes. \n",
    "    \n",
    "    # Precompute a dictionary to lookup for gene sequence, given gene accession\n",
    "    gene_sequence = {}\n",
    "    for gene in genes:\n",
    "        gene_sequence[gene.accession] = gene.sequence\n",
    "    \n",
    "    # Calculate Smith-Waterman score for each matrix cell\n",
    "    for gene_accession_1 in matrix:\n",
    "        for gene_accession_2 in matrix[gene_accession_1]:\n",
    "            matrix[gene_accession_1][gene_accession_2] = smith_waterman(gene_sequence[gene_accession_1],\n",
    "                                                                       gene_sequence[gene_accession_2])\n",
    "    \n",
    "    return matrix"
   ]
  },
  {
   "cell_type": "markdown",
   "metadata": {},
   "source": [
    "Let's test them out. The two cells below will use your calculate_kmer_distance_matrix, and calculate_sw_alignment_distance_matrix functions to add distances to the matrix. <br>\n",
    "**NOTE:** the smith-waterman distance calculations can take time. Give it a minute."
   ]
  },
  {
   "cell_type": "code",
   "execution_count": 58,
   "metadata": {},
   "outputs": [
    {
     "name": "stdout",
     "output_type": "stream",
     "text": [
      "\n",
      "kmer distance matrix\n",
      "        EC_A  EC_B  EC_C  EC_D  EC_E  EC_F  EC_G  EF_A  EF_B  EF_C  EF_D  HS_A  MI_A  SD_A  SF_A  SS_A  SS_B\n",
      "EC_A     0.0  86.0  98.0  94.0  96.0  90.0  96.0 186.0 186.0 186.0 186.0 186.0  96.0  98.0 160.0  97.0 110.0\n",
      "EC_B    86.0   0.0  32.0  24.0  26.0  24.0  24.0 176.0 182.0 176.0 176.0 186.0  24.0  32.0  92.0  65.0 102.0\n",
      "EC_C    98.0  32.0   0.0  52.0  40.0  36.0  40.0 186.0 186.0 186.0 186.0 186.0  40.0  32.0  98.0  63.0  96.0\n",
      "EC_D    94.0  24.0  52.0   0.0  32.0  36.0  32.0 176.0 182.0 176.0 176.0 186.0  36.0  50.0 116.0  73.0 100.0\n",
      "EC_E    96.0  26.0  40.0  32.0   0.0  26.0  22.0 182.0 186.0 182.0 182.0 186.0  26.0  38.0 116.0  73.0 100.0\n",
      "EC_F    90.0  24.0  36.0  36.0  26.0   0.0  24.0 186.0 186.0 186.0 186.0 186.0  30.0  28.0 110.0  73.0 100.0\n",
      "EC_G    96.0  24.0  40.0  32.0  22.0  24.0   0.0 180.0 186.0 180.0 180.0 186.0   8.0  38.0 116.0  73.0 100.0\n",
      "EF_A   186.0 176.0 186.0 176.0 182.0 186.0 180.0   0.0  44.0  28.0  28.0 186.0 180.0 186.0 182.0 177.0 186.0\n",
      "EF_B   186.0 182.0 186.0 182.0 186.0 186.0 186.0  44.0   0.0  44.0  26.0 186.0 186.0 186.0 176.0 177.0 186.0\n",
      "EF_C   186.0 176.0 186.0 176.0 182.0 186.0 180.0  28.0  44.0   0.0  28.0 186.0 180.0 186.0 182.0 177.0 186.0\n",
      "EF_D   186.0 176.0 186.0 176.0 182.0 186.0 180.0  28.0  26.0  28.0   0.0 186.0 180.0 186.0 182.0 177.0 186.0\n",
      "HS_A   186.0 186.0 186.0 186.0 186.0 186.0 186.0 186.0 186.0 186.0 186.0   0.0 186.0 186.0 186.0 177.0 186.0\n",
      "MI_A    96.0  24.0  40.0  36.0  26.0  30.0   8.0 180.0 186.0 180.0 180.0 186.0   0.0  38.0 116.0  73.0 102.0\n",
      "SD_A    98.0  32.0  32.0  50.0  38.0  28.0  38.0 186.0 186.0 186.0 186.0 186.0  38.0   0.0 108.0  69.0 100.0\n",
      "SF_A   160.0  92.0  98.0 116.0 116.0 110.0 116.0 182.0 176.0 182.0 182.0 186.0 116.0 108.0   0.0 135.0 172.0\n",
      "SS_A    97.0  65.0  63.0  73.0  73.0  73.0  73.0 177.0 177.0 177.0 177.0 177.0  73.0  69.0 135.0   0.0  83.0\n",
      "SS_B   110.0 102.0  96.0 100.0 100.0 100.0 100.0 186.0 186.0 186.0 186.0 186.0 102.0 100.0 172.0  83.0   0.0\n"
     ]
    }
   ],
   "source": [
    "distance_matrix = init_distance_matrix(ribosome_genes)\n",
    "kmer_distance_matrix = calculate_kmer_distance_matrix(ribosome_genes, distance_matrix, 8)\n",
    "print('\\nkmer distance matrix')\n",
    "print_distance_matrix(kmer_distance_matrix)"
   ]
  },
  {
   "cell_type": "code",
   "execution_count": 59,
   "metadata": {},
   "outputs": [
    {
     "name": "stdout",
     "output_type": "stream",
     "text": [
      "\n",
      "smith waterman alignment score distance matrix\n",
      "        EC_A  EC_B  EC_C  EC_D  EC_E  EC_F  EC_G  EF_A  EF_B  EF_C  EF_D  HS_A  MI_A  SD_A  SF_A  SS_A  SS_B\n",
      "EC_A   100.0  57.0  44.0  54.0  48.0  53.0  53.0   8.0   6.0   7.0   7.0   6.0  52.0  44.0  22.0  44.0  45.0\n",
      "EC_B    57.0 100.0  83.0  91.0  86.0  91.0  91.0  13.0   9.0  12.0  12.0   6.0  91.0  83.0  58.0  53.0  49.0\n",
      "EC_C    44.0  83.0 100.0  76.0  73.0  81.0  77.0   6.0   7.0   6.0   6.0   6.0  77.0  83.0  51.0  54.0  52.0\n",
      "EC_D    54.0  91.0  76.0 100.0  84.0  88.0  88.0  12.0   9.0  12.0  12.0   6.0  86.0  77.0  50.0  49.0  50.0\n",
      "EC_E    48.0  86.0  73.0  84.0 100.0  84.0  88.0   9.0   6.0   9.0   9.0   6.0  86.0  78.0  45.0  49.0  50.0\n",
      "EC_F    53.0  91.0  81.0  88.0  84.0 100.0  90.0   8.0   6.0   7.0   7.0   6.0  87.0  87.0  50.0  49.0  50.0\n",
      "EC_G    53.0  91.0  77.0  88.0  88.0  90.0 100.0  10.0   7.0  10.0  10.0   6.0  96.0  82.0  50.0  49.0  50.0\n",
      "EF_A     8.0  13.0   6.0  12.0   9.0   8.0  10.0 100.0  80.0  90.0  85.0   7.0  10.0   7.0  10.0   5.0   7.0\n",
      "EF_B     6.0   9.0   7.0   9.0   6.0   6.0   7.0  80.0 100.0  84.0  90.0   7.0   7.0   6.0  12.0   5.0   6.0\n",
      "EF_C     7.0  12.0   6.0  12.0   9.0   7.0  10.0  90.0  84.0 100.0  90.0   7.0  10.0   7.0   9.0   7.0   7.0\n",
      "EF_D     7.0  12.0   6.0  12.0   9.0   7.0  10.0  85.0  90.0  90.0 100.0   7.0  10.0   7.0   9.0   5.0   5.0\n",
      "HS_A     6.0   6.0   6.0   6.0   6.0   6.0   6.0   7.0   7.0   7.0   7.0 100.0   6.0   6.0   6.0   6.0   7.0\n",
      "MI_A    52.0  91.0  77.0  86.0  86.0  87.0  96.0  10.0   7.0  10.0  10.0   6.0 100.0  82.0  50.0  49.0  49.0\n",
      "SD_A    44.0  83.0  83.0  77.0  78.0  87.0  82.0   7.0   6.0   7.0   7.0   6.0  82.0 100.0  46.0  51.0  50.0\n",
      "SF_A    22.0  58.0  51.0  50.0  45.0  50.0  50.0  10.0  12.0   9.0   9.0   6.0  50.0  46.0 100.0  19.0  16.0\n",
      "SS_A    44.0  53.0  54.0  49.0  49.0  49.0  49.0   5.0   5.0   7.0   5.0   6.0  49.0  51.0  19.0 100.0  54.0\n",
      "SS_B    45.0  49.0  52.0  50.0  50.0  50.0  50.0   7.0   6.0   7.0   5.0   7.0  49.0  50.0  16.0  54.0 100.0\n"
     ]
    }
   ],
   "source": [
    "distance_matrix = init_distance_matrix(ribosome_genes)\n",
    "sw_alignment_distance_matrix = calculate_sw_alignment_distance_matrix(ribosome_genes, distance_matrix)\n",
    "print('\\nsmith waterman alignment score distance matrix')\n",
    "print_distance_matrix(sw_alignment_distance_matrix)"
   ]
  },
  {
   "cell_type": "markdown",
   "metadata": {},
   "source": [
    "Let's visualise those in a better manner for human eyes. The cell below will plot heatmaps instead of raw numbers."
   ]
  },
  {
   "cell_type": "code",
   "execution_count": 60,
   "metadata": {},
   "outputs": [
    {
     "data": {
      "image/png": "[encoded data removed]",
      "text/plain": [
       "<Figure size 960x480 with 2 Axes>"
      ]
     },
     "metadata": {
      "needs_background": "light"
     },
     "output_type": "display_data"
    }
   ],
   "source": [
    "from utilities import heatmap\n",
    "heatmap(kmer_distance_matrix, sw_alignment_distance_matrix)"
   ]
  },
  {
   "cell_type": "markdown",
   "metadata": {},
   "source": [
    "Comment in the cell below why these two heatmaps look inverted relative to one another. <br>\n",
    "Comment on the extent of similarity between the Smith-Waterman and k-mer distance approaches, and suggest which may be more appropriate for biological sequences, making references to some knowledge you have about genes. <br> \n",
    "(Maximum of 150 words)"
   ]
  },
  {
   "cell_type": "markdown",
   "metadata": {},
   "source": [
    " -- GRADED CELL (6 marks) - complete this cell --\n",
    " "
   ]
  },
  {
   "cell_type": "markdown",
   "metadata": {},
   "source": [
    "### SECTION 2: CLUSTERING"
   ]
  },
  {
   "cell_type": "markdown",
   "metadata": {},
   "source": [
    "From the heatmaps, it seems like there are a few clusters in the data. <br>\n",
    "First, lets convert the pairwise distances to 2D coordinates. \n",
    "This is possible using Multidimensional scaling (MDS - which we will cover in a few weeks during lectures).\n",
    "After we have transformed the distance matrix to 2D coordinates, we can plot it to see if any clusters are evident."
   ]
  },
  {
   "cell_type": "code",
   "execution_count": null,
   "metadata": {},
   "outputs": [],
   "source": [
    "from utilities import mds_scatterplot, distance_matrix_to_coordinates_MDS\n",
    "kmer_distances_xy = distance_matrix_to_coordinates_MDS(kmer_distance_matrix)\n",
    "sw_distances_xy = distance_matrix_to_coordinates_MDS(sw_alignment_distance_matrix)\n",
    "mds_scatterplot(kmer_distances_xy)\n",
    "mds_scatterplot(sw_distances_xy)"
   ]
  },
  {
   "cell_type": "markdown",
   "metadata": {},
   "source": [
    "Seems like there is some clustering happening. <br>\n",
    "Let's use some clustering algorithms to define the clusters. \n",
    "in this manner, we can have an objective way to talk about the patterns in the data."
   ]
  },
  {
   "cell_type": "markdown",
   "metadata": {},
   "source": [
    "**TASK 4: K-means & K-medoids**\n",
    "we are going to use K-means and K-medoids to cluster the data."
   ]
  },
  {
   "cell_type": "markdown",
   "metadata": {},
   "source": [
    "Let's implement the k-means algorithm. <br>\n",
    "We have provided initialise_centroids, assign_points, and k-means. \n",
    "write a function which calculates new centroid locations (using the mean)"
   ]
  },
  {
   "cell_type": "code",
   "execution_count": 115,
   "metadata": {},
   "outputs": [],
   "source": [
    "from utilities import initialise_centroids, average_point, assign_points, plot_kmeans, points_equal, euclidean_distance"
   ]
  },
  {
   "cell_type": "code",
   "execution_count": 116,
   "metadata": {},
   "outputs": [],
   "source": [
    "# -- GRADED CELL (1 marks) - complete this cell --\n",
    "\n",
    "def calculate_mean_centroids(data, assignments, k):\n",
    "    # Given a list of points (data), and their corresponding cluster assignments (assignments), \n",
    "    # update our centroid locations by calculating the mean location of points for each cluster. \n",
    "        \n",
    "    return centroids"
   ]
  },
  {
   "cell_type": "markdown",
   "metadata": {},
   "source": [
    "Place calculate_mean_centroids() in the kmeans function below to complete kmeans"
   ]
  },
  {
   "cell_type": "code",
   "execution_count": 117,
   "metadata": {},
   "outputs": [],
   "source": [
    "# -- GRADED CELL (2 marks) - complete this cell --\n",
    "\n",
    "def kmeans(data, k):\n",
    "    # given a list of points (data) and num clusters = k, perform k-means clustering\n",
    "    \n",
    "        \n",
    "    #optional\n",
    "    #plot_kmeans(data, centroids, cluster_assignments, k)\n",
    "    \n",
    "    return centroids, cluster_assignments"
   ]
  },
  {
   "cell_type": "markdown",
   "metadata": {},
   "source": [
    "You can check your implementation using the cell below:"
   ]
  },
  {
   "cell_type": "code",
   "execution_count": null,
   "metadata": {},
   "outputs": [],
   "source": [
    "centroids, cluster_assignments = kmeans(kmer_distances_xy, 3)\n",
    "plot_kmeans(kmer_distances_xy, centroids, cluster_assignments, 3)"
   ]
  },
  {
   "cell_type": "markdown",
   "metadata": {},
   "source": [
    "Let's also implement k-medoids while we're at it. <br>\n",
    "The only difference between k-means and k-medoids is the calculate_mean_centroids() step, which will instead be calculate_median_centroids()\n",
    "the median can be taken here as the point in the cluster which has smallest cumulative distance to the other points in the cluster\n",
    "You can use the provided euclidean_distance() function to calculate distances between points\n",
    "write a function which calculates new centroid locations (using the median)"
   ]
  },
  {
   "cell_type": "code",
   "execution_count": 119,
   "metadata": {},
   "outputs": [],
   "source": [
    "# -- GRADED CELL (3 marks) - complete this cell --\n",
    "\n",
    "def calculate_median_centroids(data, assignments, k):\n",
    "    # Given a list of points (data), and their corresponding cluster assignments (assignments), \n",
    "    # update our centroid locations by calculating the median point of each cluster.  \n",
    "    \n",
    "    return centroids"
   ]
  },
  {
   "cell_type": "markdown",
   "metadata": {},
   "source": [
    "Place calculate_median_centroids() in the kmedoids function below to complete kmedoids"
   ]
  },
  {
   "cell_type": "code",
   "execution_count": 120,
   "metadata": {},
   "outputs": [],
   "source": [
    "# -- GRADED CELL (1 marks) - complete this cell --\n",
    "\n",
    "def kmedoids(data, k):\n",
    "    # given a list of points (data) and num clusters = k, perform k-means clustering\n",
    "    \n",
    "\n",
    "    #optional\n",
    "    #plot_kmeans(data, centroids, cluster_assignments, k)\n",
    "    \n",
    "    return centroids, cluster_assignments"
   ]
  },
  {
   "cell_type": "markdown",
   "metadata": {},
   "source": [
    "Here is another check cell, for kmedoids this time:"
   ]
  },
  {
   "cell_type": "code",
   "execution_count": null,
   "metadata": {},
   "outputs": [],
   "source": [
    "centroids, cluster_assignments = kmedoids(kmer_distances_xy, 3)\n",
    "plot_kmeans(kmer_distances_xy, centroids, cluster_assignments, 3)"
   ]
  },
  {
   "cell_type": "markdown",
   "metadata": {},
   "source": [
    "**TASK 5: silhouette analysis**<br>\n",
    "It would be nice to have a way to objectively compare clustering performance. <br>\n",
    "We could compare the selection of k (num clusters) to find the most optimal, or could compare different clustering algorithms to see which performs better. <br><br>\n",
    "\n",
    "Silhouette analysis is one way to do this. \n",
    "Silhouette analysis reports information about how far a datapoint is from the clusters is isn't a part of.\n",
    "It produces a plot where we can see the separation between clusters (higher is better) \n",
    "Silhouette coefficients are produced in the range [-1, 1], where 1 indicates the the point is far from other clusters, 0 represents a point which is near the decision boundary between two clusters, and negative values indicate that the point may have been assigned to the wrong cluster. \n",
    "more information is available at https://scikit-learn.org/stable/auto_examples/cluster/plot_kmeans_silhouette_analysis.html<br><br>\n",
    "The cell below gives a visual representation of the silhouette scores for points in each cluster. "
   ]
  },
  {
   "cell_type": "code",
   "execution_count": null,
   "metadata": {},
   "outputs": [],
   "source": [
    "from utilities import silhouette_plot\n",
    "print('\\n\\n KMEANS')\n",
    "centroids, cluster_assignments = kmeans(kmer_distances_xy, 2)\n",
    "plot_kmeans(kmer_distances_xy, centroids, cluster_assignments, 2)\n",
    "silhouette_plot(kmer_distances_xy, cluster_assignments, 'kmeans')\n",
    "\n",
    "print('\\n\\n KMEDOIDS')\n",
    "centroids, cluster_assignments = kmedoids(kmer_distances_xy, 3)\n",
    "plot_kmeans(kmer_distances_xy, centroids, cluster_assignments, 3)\n",
    "silhouette_plot(kmer_distances_xy, cluster_assignments, 'kmedoids')"
   ]
  },
  {
   "cell_type": "markdown",
   "metadata": {},
   "source": [
    "Let's get the silhouette scores for a run of kmeans and kmedoids. <br>\n",
    "The average silhouette score for points in a cluster will be used as a metric to compare \n",
    "clustering performance (higher is better). <br>\n",
    "The cell below will run k-means and k-mediods 10 times each and record average silhouette scores for each cluster. \n",
    "This will account for a range of starting centroid locations. "
   ]
  },
  {
   "cell_type": "code",
   "execution_count": null,
   "metadata": {},
   "outputs": [],
   "source": [
    "from utilities import silhouette_score\n",
    "def silhouette_score_run(distance_matrix, k):\n",
    "    kmeans_scores = []\n",
    "    kmedoids_scores = []\n",
    "\n",
    "    while len(kmeans_scores) < 10:\n",
    "        try:\n",
    "            centroids, cluster_assignments = kmeans(distance_matrix, k)\n",
    "            kmeans_scores.append(silhouette_score(distance_matrix, cluster_assignments))\n",
    "        except ValueError:\n",
    "            pass\n",
    "\n",
    "    while len(kmedoids_scores) < 10:\n",
    "        try:\n",
    "            centroids, cluster_assignments = kmedoids(distance_matrix, k)\n",
    "            kmedoids_scores.append(silhouette_score(distance_matrix, cluster_assignments))\n",
    "        except ValueError:\n",
    "            pass\n",
    "\n",
    "    print('{:^15}{:^15}'.format('kmeans', 'kmedoids'))\n",
    "    for score1, score2 in zip(kmeans_scores, kmedoids_scores):\n",
    "        print('{:^15.2f}{:^15.2f}'.format(score1, score2))\n",
    "\n",
    "\n",
    "print('\\nsilhouette scores: k = 2')\n",
    "silhouette_score_run(kmer_distances_xy, 2)\n",
    "print('\\nsilhouette scores: k = 3')\n",
    "silhouette_score_run(kmer_distances_xy, 3)"
   ]
  },
  {
   "cell_type": "markdown",
   "metadata": {},
   "source": [
    "In light of the silhouette analysis results produced above, we can make some objective judgement about our clustering. <br>\n",
    "- Comment on which algorithm (k-means/k-medoids) performed better for k=2.\n",
    "- Comment on what number of clusters, k=2 or k=3, produced better results. \n",
    "- Comment on why the silhouette scores are changing for each run of clustering. \n",
    "<br>\n",
    "(Maximum of 150 words)"
   ]
  },
  {
   "cell_type": "markdown",
   "metadata": {},
   "source": [
    " -- GRADED CELL (5 marks) - complete this cell --\n",
    " \n",
    " "
   ]
  },
  {
   "cell_type": "markdown",
   "metadata": {},
   "source": [
    "**TASK 6: Agglomerative clustering algorithm**"
   ]
  },
  {
   "cell_type": "markdown",
   "metadata": {},
   "source": [
    "Previously, we have used partitional clustering algorithms on our data. The other main branch, hierarchical clustering has not been yet explored. \n",
    "\n",
    "Partitional and hierarchical clustering approaches perform differently given the dataset. Your task is to write **in plan english** an agglomerative hierarchical clustering algorithm. Be specific - the exact process of merging groups and the method used to calculate distance must be mentioned, as well as what is expected as input and output. \n",
    "\n",
    "Write your clustering algorithm in the markdown cell below."
   ]
  },
  {
   "cell_type": "markdown",
   "metadata": {},
   "source": [
    " -- GRADED CELL (8 marks) - complete this cell --\n",
    " \n",
    " "
   ]
  },
  {
   "cell_type": "markdown",
   "metadata": {},
   "source": [
    "Comment on which method, divisive or agglomerative, you think would be best given this dataset.\n",
    "\n",
    "Use information from the kmer/smith-waterman distance heatmaps, the 2D scatterplot representation of the data, and silhouette analysis. Include a comment about outliers in your answer. \n",
    "\n",
    "Write your answer in the markdown cell below. "
   ]
  },
  {
   "cell_type": "markdown",
   "metadata": {},
   "source": [
    " -- GRADED CELL (5 marks) - complete this cell --\n",
    " \n",
    " "
   ]
  }
 ],
 "metadata": {
  "kernelspec": {
   "display_name": "Python 3",
   "language": "python",
   "name": "python3"
  },
  "language_info": {
   "codemirror_mode": {
    "name": "ipython",
    "version": 3
   },
   "file_extension": ".py",
   "mimetype": "text/x-python",
   "name": "python",
   "nbconvert_exporter": "python",
   "pygments_lexer": "ipython3",
   "version": "3.7.6"
  }
 },
 "nbformat": 4,
 "nbformat_minor": 4
}
